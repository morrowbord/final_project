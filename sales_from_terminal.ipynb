{
 "cells": [
  {
   "cell_type": "markdown",
   "id": "e7fb9e19",
   "metadata": {},
   "source": [
    "## Цель - Исследловать количество продаж по СБП, чтобы понять сколько заказов идет через этот терминал, и их увеличить"
   ]
  },
  {
   "cell_type": "code",
   "execution_count": 82,
   "id": "b56c7f20",
   "metadata": {},
   "outputs": [],
   "source": [
    "#import jovian"
   ]
  },
  {
   "cell_type": "code",
   "execution_count": null,
   "id": "210f27f9",
   "metadata": {},
   "outputs": [],
   "source": [
    "#Сначала импортируем нужные модули.\n",
    "\n",
    "import pandas as pd\n",
    "import glob\n",
    "#import dask.dataframe as dd\n"
   ]
  },
  {
   "cell_type": "code",
   "execution_count": 20,
   "id": "2885984a",
   "metadata": {},
   "outputs": [],
   "source": [
    "#  pip install pandas\n",
    "from pathlib import Path\n",
    "\n",
    "data_dir = Path(\"/home/nal/apteka-automate/attachments/\")\n",
    "\n",
    "df = pd.concat([pd.read_csv(file,sep=';') for file in data_dir.glob(\"*.csv\")], ignore_index=True)"
   ]
  },
  {
   "cell_type": "markdown",
   "id": "836fecb8",
   "metadata": {},
   "source": [
    "Смотрю данные"
   ]
  },
  {
   "cell_type": "markdown",
   "id": "5b962267",
   "metadata": {},
   "source": [
    "* Удалим пустые сроки и колонку лишнюю, образовавшиеся после слияния файлов \"Итого\", содержащие NaN, сначала удалим колонку чтобы не удалтить весь датасет"
   ]
  },
  {
   "cell_type": "code",
   "execution_count": 21,
   "id": "30e93bd0",
   "metadata": {},
   "outputs": [],
   "source": [
    "df=df.drop(columns=['Unnamed: 12','RRN','Код авторизации'],axis=1)"
   ]
  },
  {
   "cell_type": "code",
   "execution_count": 22,
   "id": "bf324ca3",
   "metadata": {},
   "outputs": [],
   "source": [
    "df=df.dropna()"
   ]
  },
  {
   "cell_type": "markdown",
   "id": "bd18da6f",
   "metadata": {},
   "source": [
    "* Выкинем первые колонки и RRN,Код авторизации для большей анонимности данных"
   ]
  },
  {
   "cell_type": "code",
   "execution_count": 23,
   "id": "b36d4533",
   "metadata": {},
   "outputs": [],
   "source": [
    "#df"
   ]
  },
  {
   "cell_type": "code",
   "execution_count": 24,
   "id": "e39a76c7",
   "metadata": {},
   "outputs": [],
   "source": [
    "df=df.iloc[:,2:10] #dont start twice!!!"
   ]
  },
  {
   "cell_type": "code",
   "execution_count": 25,
   "id": "6df8f754",
   "metadata": {},
   "outputs": [],
   "source": [
    "df.to_csv(\"/home/nal/apteka-automate/attachments/all/result_new.csv\", index=False)"
   ]
  },
  {
   "cell_type": "code",
   "execution_count": 26,
   "id": "f5e31329",
   "metadata": {},
   "outputs": [],
   "source": [
    "df=pd.read_csv('/home/nal/apteka-automate/attachments/all/result_new.csv',sep=',')"
   ]
  },
  {
   "cell_type": "markdown",
   "id": "9b289ed1",
   "metadata": {},
   "source": [
    "1.Исследование данных"
   ]
  },
  {
   "cell_type": "code",
   "execution_count": 27,
   "id": "d2710720",
   "metadata": {},
   "outputs": [
    {
     "data": {
      "text/plain": [
       "Номер источника платежа     object\n",
       "Наименование МПС            object\n",
       "Тип операции                object\n",
       "Дата операции               object\n",
       "Время операции              object\n",
       "Сумма операции             float64\n",
       "S/N терминала               object\n",
       "Комиссия                   float64\n",
       "dtype: object"
      ]
     },
     "execution_count": 27,
     "metadata": {},
     "output_type": "execute_result"
    }
   ],
   "source": [
    "df.dtypes"
   ]
  },
  {
   "cell_type": "code",
   "execution_count": 28,
   "id": "7cc797a8",
   "metadata": {},
   "outputs": [
    {
     "data": {
      "text/html": [
       "<div>\n",
       "<style scoped>\n",
       "    .dataframe tbody tr th:only-of-type {\n",
       "        vertical-align: middle;\n",
       "    }\n",
       "\n",
       "    .dataframe tbody tr th {\n",
       "        vertical-align: top;\n",
       "    }\n",
       "\n",
       "    .dataframe thead th {\n",
       "        text-align: right;\n",
       "    }\n",
       "</style>\n",
       "<table border=\"1\" class=\"dataframe\">\n",
       "  <thead>\n",
       "    <tr style=\"text-align: right;\">\n",
       "      <th></th>\n",
       "      <th>Номер источника платежа</th>\n",
       "      <th>Наименование МПС</th>\n",
       "      <th>Тип операции</th>\n",
       "      <th>Дата операции</th>\n",
       "      <th>Время операции</th>\n",
       "      <th>Сумма операции</th>\n",
       "      <th>S/N терминала</th>\n",
       "      <th>Комиссия</th>\n",
       "    </tr>\n",
       "  </thead>\n",
       "  <tbody>\n",
       "    <tr>\n",
       "      <th>0</th>\n",
       "      <td>220220******2321</td>\n",
       "      <td>МИР</td>\n",
       "      <td>Debit</td>\n",
       "      <td>04.02.2023</td>\n",
       "      <td>06:25:06</td>\n",
       "      <td>246.00</td>\n",
       "      <td>451-344-522</td>\n",
       "      <td>3.94</td>\n",
       "    </tr>\n",
       "    <tr>\n",
       "      <th>1</th>\n",
       "      <td>220220******6422</td>\n",
       "      <td>МИР</td>\n",
       "      <td>Debit</td>\n",
       "      <td>04.02.2023</td>\n",
       "      <td>07:09:41</td>\n",
       "      <td>178.47</td>\n",
       "      <td>451-344-522</td>\n",
       "      <td>2.86</td>\n",
       "    </tr>\n",
       "    <tr>\n",
       "      <th>2</th>\n",
       "      <td>220019******7991</td>\n",
       "      <td>МИР</td>\n",
       "      <td>Debit</td>\n",
       "      <td>04.02.2023</td>\n",
       "      <td>07:27:42</td>\n",
       "      <td>513.00</td>\n",
       "      <td>451-344-522</td>\n",
       "      <td>8.21</td>\n",
       "    </tr>\n",
       "    <tr>\n",
       "      <th>3</th>\n",
       "      <td>220077******0142</td>\n",
       "      <td>МИР</td>\n",
       "      <td>Debit</td>\n",
       "      <td>04.02.2023</td>\n",
       "      <td>07:48:28</td>\n",
       "      <td>271.46</td>\n",
       "      <td>451-344-522</td>\n",
       "      <td>4.34</td>\n",
       "    </tr>\n",
       "    <tr>\n",
       "      <th>4</th>\n",
       "      <td>220220******0476</td>\n",
       "      <td>МИР</td>\n",
       "      <td>Debit</td>\n",
       "      <td>04.02.2023</td>\n",
       "      <td>08:02:12</td>\n",
       "      <td>300.00</td>\n",
       "      <td>451-344-522</td>\n",
       "      <td>4.80</td>\n",
       "    </tr>\n",
       "    <tr>\n",
       "      <th>...</th>\n",
       "      <td>...</td>\n",
       "      <td>...</td>\n",
       "      <td>...</td>\n",
       "      <td>...</td>\n",
       "      <td>...</td>\n",
       "      <td>...</td>\n",
       "      <td>...</td>\n",
       "      <td>...</td>\n",
       "    </tr>\n",
       "    <tr>\n",
       "      <th>7620</th>\n",
       "      <td>220220******3778</td>\n",
       "      <td>МИР</td>\n",
       "      <td>Debit</td>\n",
       "      <td>16.01.2023</td>\n",
       "      <td>18:58:26</td>\n",
       "      <td>269.00</td>\n",
       "      <td>450-181-190</td>\n",
       "      <td>4.30</td>\n",
       "    </tr>\n",
       "    <tr>\n",
       "      <th>7621</th>\n",
       "      <td>427616******0254</td>\n",
       "      <td>VISA</td>\n",
       "      <td>Debit</td>\n",
       "      <td>16.01.2023</td>\n",
       "      <td>19:09:26</td>\n",
       "      <td>322.00</td>\n",
       "      <td>451-344-522</td>\n",
       "      <td>5.15</td>\n",
       "    </tr>\n",
       "    <tr>\n",
       "      <th>7622</th>\n",
       "      <td>553609******6842</td>\n",
       "      <td>MC</td>\n",
       "      <td>Debit</td>\n",
       "      <td>16.01.2023</td>\n",
       "      <td>19:16:48</td>\n",
       "      <td>452.00</td>\n",
       "      <td>450-181-190</td>\n",
       "      <td>7.23</td>\n",
       "    </tr>\n",
       "    <tr>\n",
       "      <th>7623</th>\n",
       "      <td>437772******3131</td>\n",
       "      <td>VISA</td>\n",
       "      <td>Debit</td>\n",
       "      <td>16.01.2023</td>\n",
       "      <td>19:31:58</td>\n",
       "      <td>578.00</td>\n",
       "      <td>450-181-190</td>\n",
       "      <td>9.25</td>\n",
       "    </tr>\n",
       "    <tr>\n",
       "      <th>7624</th>\n",
       "      <td>220070******1523</td>\n",
       "      <td>МИР</td>\n",
       "      <td>Debit</td>\n",
       "      <td>16.01.2023</td>\n",
       "      <td>19:57:57</td>\n",
       "      <td>32.75</td>\n",
       "      <td>450-181-190</td>\n",
       "      <td>0.52</td>\n",
       "    </tr>\n",
       "  </tbody>\n",
       "</table>\n",
       "<p>7625 rows × 8 columns</p>\n",
       "</div>"
      ],
      "text/plain": [
       "     Номер источника платежа Наименование МПС Тип операции Дата операции  \\\n",
       "0           220220******2321              МИР        Debit    04.02.2023   \n",
       "1           220220******6422              МИР        Debit    04.02.2023   \n",
       "2           220019******7991              МИР        Debit    04.02.2023   \n",
       "3           220077******0142              МИР        Debit    04.02.2023   \n",
       "4           220220******0476              МИР        Debit    04.02.2023   \n",
       "...                      ...              ...          ...           ...   \n",
       "7620        220220******3778              МИР        Debit    16.01.2023   \n",
       "7621        427616******0254             VISA        Debit    16.01.2023   \n",
       "7622        553609******6842               MC        Debit    16.01.2023   \n",
       "7623        437772******3131             VISA        Debit    16.01.2023   \n",
       "7624        220070******1523              МИР        Debit    16.01.2023   \n",
       "\n",
       "     Время операции  Сумма операции S/N терминала  Комиссия  \n",
       "0          06:25:06          246.00   451-344-522      3.94  \n",
       "1          07:09:41          178.47   451-344-522      2.86  \n",
       "2          07:27:42          513.00   451-344-522      8.21  \n",
       "3          07:48:28          271.46   451-344-522      4.34  \n",
       "4          08:02:12          300.00   451-344-522      4.80  \n",
       "...             ...             ...           ...       ...  \n",
       "7620       18:58:26          269.00   450-181-190      4.30  \n",
       "7621       19:09:26          322.00   451-344-522      5.15  \n",
       "7622       19:16:48          452.00   450-181-190      7.23  \n",
       "7623       19:31:58          578.00   450-181-190      9.25  \n",
       "7624       19:57:57           32.75   450-181-190      0.52  \n",
       "\n",
       "[7625 rows x 8 columns]"
      ]
     },
     "execution_count": 28,
     "metadata": {},
     "output_type": "execute_result"
    }
   ],
   "source": [
    "df"
   ]
  },
  {
   "cell_type": "code",
   "execution_count": 29,
   "id": "0765a3be",
   "metadata": {},
   "outputs": [
    {
     "data": {
      "text/plain": [
       "553691******9871    30\n",
       "553691******7586    20\n",
       "427606******1060    15\n",
       "220220******3362    15\n",
       "427606******9135    15\n",
       "                    ..\n",
       "220220******1266     1\n",
       "489347******2194     1\n",
       "220220******0441     1\n",
       "553691******9813     1\n",
       "220070******1523     1\n",
       "Name: Номер источника платежа, Length: 4447, dtype: int64"
      ]
     },
     "execution_count": 29,
     "metadata": {},
     "output_type": "execute_result"
    }
   ],
   "source": [
    "df['Номер источника платежа'].value_counts()"
   ]
  },
  {
   "cell_type": "code",
   "execution_count": 30,
   "id": "1dc50fd6",
   "metadata": {},
   "outputs": [
    {
     "data": {
      "text/plain": [
       "МИР     4383\n",
       "VISA    1896\n",
       "MC      1296\n",
       "СБП       50\n",
       "Name: Наименование МПС, dtype: int64"
      ]
     },
     "execution_count": 30,
     "metadata": {},
     "output_type": "execute_result"
    }
   ],
   "source": [
    "df['Наименование МПС'].value_counts()"
   ]
  },
  {
   "cell_type": "code",
   "execution_count": 31,
   "id": "6890c66c",
   "metadata": {},
   "outputs": [
    {
     "data": {
      "text/plain": [
       "Debit    7625\n",
       "Name: Тип операции, dtype: int64"
      ]
     },
     "execution_count": 31,
     "metadata": {},
     "output_type": "execute_result"
    }
   ],
   "source": [
    "df['Тип операции'].value_counts()"
   ]
  },
  {
   "cell_type": "markdown",
   "id": "1a1fb44b",
   "metadata": {},
   "source": [
    "пока одно значение, оставлю тк может измениться с новыми данными"
   ]
  },
  {
   "cell_type": "code",
   "execution_count": 32,
   "id": "f9b547fb",
   "metadata": {},
   "outputs": [
    {
     "data": {
      "text/plain": [
       "451-344-522         3359\n",
       "450-181-190         3113\n",
       "2330511563          1122\n",
       "2330516939            29\n",
       "3f49ffbb5afca6b7       2\n",
       "Name: S/N терминала, dtype: int64"
      ]
     },
     "execution_count": 32,
     "metadata": {},
     "output_type": "execute_result"
    }
   ],
   "source": [
    "df['S/N терминала'].value_counts()"
   ]
  },
  {
   "cell_type": "markdown",
   "id": "2c59b843",
   "metadata": {},
   "source": [
    "* Преобразуем дату в удобный формат для работы"
   ]
  },
  {
   "cell_type": "code",
   "execution_count": 33,
   "id": "72a64ec4",
   "metadata": {},
   "outputs": [
    {
     "data": {
      "text/plain": [
       "0       04.02.2023 06:25:06\n",
       "1       04.02.2023 07:09:41\n",
       "2       04.02.2023 07:27:42\n",
       "3       04.02.2023 07:48:28\n",
       "4       04.02.2023 08:02:12\n",
       "               ...         \n",
       "7620    16.01.2023 18:58:26\n",
       "7621    16.01.2023 19:09:26\n",
       "7622    16.01.2023 19:16:48\n",
       "7623    16.01.2023 19:31:58\n",
       "7624    16.01.2023 19:57:57\n",
       "Name: Дата, Length: 7625, dtype: object"
      ]
     },
     "execution_count": 33,
     "metadata": {},
     "output_type": "execute_result"
    }
   ],
   "source": [
    "df['Дата']=df['Дата операции'].astype(str) + \" \" + df['Время операции'].astype(str).str.zfill(6)\n",
    "df['Дата']"
   ]
  },
  {
   "cell_type": "code",
   "execution_count": 34,
   "id": "73ddcaec",
   "metadata": {},
   "outputs": [],
   "source": [
    "df['date'] = pd.to_datetime(df['Дата'], format='%d.%m.%Y %H:%M:%S')"
   ]
  },
  {
   "cell_type": "markdown",
   "id": "820d8b7b",
   "metadata": {},
   "source": [
    "* Теперь с датой все ок! Старые колонки не нудны и их удалю"
   ]
  },
  {
   "cell_type": "code",
   "execution_count": 35,
   "id": "a6f5cfcf",
   "metadata": {},
   "outputs": [
    {
     "data": {
      "text/plain": [
       "0      2023-02-04 06:25:06\n",
       "1      2023-02-04 07:09:41\n",
       "2      2023-02-04 07:27:42\n",
       "3      2023-02-04 07:48:28\n",
       "4      2023-02-04 08:02:12\n",
       "               ...        \n",
       "7620   2023-01-16 18:58:26\n",
       "7621   2023-01-16 19:09:26\n",
       "7622   2023-01-16 19:16:48\n",
       "7623   2023-01-16 19:31:58\n",
       "7624   2023-01-16 19:57:57\n",
       "Name: date, Length: 7625, dtype: datetime64[ns]"
      ]
     },
     "execution_count": 35,
     "metadata": {},
     "output_type": "execute_result"
    }
   ],
   "source": [
    "df['date']"
   ]
  },
  {
   "cell_type": "code",
   "execution_count": 37,
   "id": "61b80f9d",
   "metadata": {},
   "outputs": [],
   "source": [
    "df=df.drop(columns=['Дата операции','Время операции','Дата'],axis=1)"
   ]
  },
  {
   "cell_type": "markdown",
   "id": "9b45a09e",
   "metadata": {},
   "source": []
  },
  {
   "cell_type": "code",
   "execution_count": 38,
   "id": "d744dc50",
   "metadata": {},
   "outputs": [],
   "source": [
    "df_data_index=df.set_index('date')"
   ]
  },
  {
   "cell_type": "code",
   "execution_count": 39,
   "id": "16d04fa6",
   "metadata": {},
   "outputs": [],
   "source": [
    "df_data_index=df_data_index.groupby('date').sum()"
   ]
  },
  {
   "cell_type": "markdown",
   "id": "456f43ce",
   "metadata": {},
   "source": [
    "Построим графики для исследования"
   ]
  },
  {
   "cell_type": "code",
   "execution_count": 40,
   "id": "06a5f763",
   "metadata": {},
   "outputs": [],
   "source": [
    "import numpy as np"
   ]
  },
  {
   "cell_type": "code",
   "execution_count": 41,
   "id": "6cd27a11",
   "metadata": {},
   "outputs": [],
   "source": [
    "# Import seaborn\n",
    "import seaborn as sns\n",
    "import matplotlib.pyplot as plt"
   ]
  },
  {
   "cell_type": "code",
   "execution_count": 42,
   "id": "eb8531ae",
   "metadata": {},
   "outputs": [
    {
     "data": {
      "text/plain": [
       "<seaborn.axisgrid.FacetGrid at 0x7ff02fc308b0>"
      ]
     },
     "execution_count": 42,
     "metadata": {},
     "output_type": "execute_result"
    },
    {
     "data": {
      "image/png": "[encoded data removed]",
      "text/plain": [
       "<Figure size 360x360 with 1 Axes>"
      ]
     },
     "metadata": {
      "needs_background": "light"
     },
     "output_type": "display_data"
    }
   ],
   "source": [
    "sns.relplot(data=df_data_index, x=\"date\", y=\"Сумма операции\", kind=\"scatter\")"
   ]
  },
  {
   "cell_type": "markdown",
   "id": "57d44eb0",
   "metadata": {},
   "source": [
    "Исследую выбросы, которые нужно будет убрать из данных при построении моделей машинного обучения"
   ]
  },
  {
   "cell_type": "code",
   "execution_count": 43,
   "id": "5170d35d",
   "metadata": {},
   "outputs": [
    {
     "data": {
      "text/html": [
       "<div>\n",
       "<style scoped>\n",
       "    .dataframe tbody tr th:only-of-type {\n",
       "        vertical-align: middle;\n",
       "    }\n",
       "\n",
       "    .dataframe tbody tr th {\n",
       "        vertical-align: top;\n",
       "    }\n",
       "\n",
       "    .dataframe thead th {\n",
       "        text-align: right;\n",
       "    }\n",
       "</style>\n",
       "<table border=\"1\" class=\"dataframe\">\n",
       "  <thead>\n",
       "    <tr style=\"text-align: right;\">\n",
       "      <th></th>\n",
       "      <th>Номер источника платежа</th>\n",
       "      <th>Наименование МПС</th>\n",
       "      <th>Тип операции</th>\n",
       "      <th>Сумма операции</th>\n",
       "      <th>S/N терминала</th>\n",
       "      <th>Комиссия</th>\n",
       "      <th>date</th>\n",
       "    </tr>\n",
       "  </thead>\n",
       "  <tbody>\n",
       "    <tr>\n",
       "      <th>2109</th>\n",
       "      <td>220220*********5271</td>\n",
       "      <td>МИР</td>\n",
       "      <td>Debit</td>\n",
       "      <td>36857.4</td>\n",
       "      <td>450-181-190</td>\n",
       "      <td>589.72</td>\n",
       "      <td>2023-01-11 13:02:27</td>\n",
       "    </tr>\n",
       "    <tr>\n",
       "      <th>5170</th>\n",
       "      <td>220220*********8024</td>\n",
       "      <td>МИР</td>\n",
       "      <td>Debit</td>\n",
       "      <td>48000.0</td>\n",
       "      <td>450-181-190</td>\n",
       "      <td>768.00</td>\n",
       "      <td>2023-01-26 10:23:33</td>\n",
       "    </tr>\n",
       "  </tbody>\n",
       "</table>\n",
       "</div>"
      ],
      "text/plain": [
       "     Номер источника платежа Наименование МПС Тип операции  Сумма операции  \\\n",
       "2109     220220*********5271              МИР        Debit         36857.4   \n",
       "5170     220220*********8024              МИР        Debit         48000.0   \n",
       "\n",
       "     S/N терминала  Комиссия                date  \n",
       "2109   450-181-190    589.72 2023-01-11 13:02:27  \n",
       "5170   450-181-190    768.00 2023-01-26 10:23:33  "
      ]
     },
     "execution_count": 43,
     "metadata": {},
     "output_type": "execute_result"
    }
   ],
   "source": [
    "df.query('`Сумма операции` > 20000')\n",
    "#Всего 2 записи с суммой значительно выше среднего, можно удалить"
   ]
  },
  {
   "cell_type": "markdown",
   "id": "15c841d9",
   "metadata": {},
   "source": [
    "* Посмотрим долю СБП в продажах"
   ]
  },
  {
   "cell_type": "code",
   "execution_count": 44,
   "id": "8571f279",
   "metadata": {},
   "outputs": [
    {
     "data": {
      "image/png": "[encoded data removed]",
      "text/plain": [
       "<Figure size 432x288 with 1 Axes>"
      ]
     },
     "metadata": {
      "needs_background": "light"
     },
     "output_type": "display_data"
    }
   ],
   "source": [
    "sns.kdeplot(data=df, x=\"date\", hue=\"Наименование МПС\", multiple=\"stack\");\n",
    "#СБП нужно нарастить"
   ]
  },
  {
   "cell_type": "code",
   "execution_count": 45,
   "id": "c2a744f8",
   "metadata": {},
   "outputs": [],
   "source": [
    "df_sum=df.groupby(pd.Grouper(key='date', axis=0,freq='D'))\n",
    "df_sum=df_sum.sum()"
   ]
  },
  {
   "cell_type": "code",
   "execution_count": 46,
   "id": "2ba24cd1",
   "metadata": {},
   "outputs": [
    {
     "data": {
      "text/html": [
       "<div>\n",
       "<style scoped>\n",
       "    .dataframe tbody tr th:only-of-type {\n",
       "        vertical-align: middle;\n",
       "    }\n",
       "\n",
       "    .dataframe tbody tr th {\n",
       "        vertical-align: top;\n",
       "    }\n",
       "\n",
       "    .dataframe thead th {\n",
       "        text-align: right;\n",
       "    }\n",
       "</style>\n",
       "<table border=\"1\" class=\"dataframe\">\n",
       "  <thead>\n",
       "    <tr style=\"text-align: right;\">\n",
       "      <th></th>\n",
       "      <th>Сумма операции</th>\n",
       "      <th>Комиссия</th>\n",
       "    </tr>\n",
       "    <tr>\n",
       "      <th>date</th>\n",
       "      <th></th>\n",
       "      <th></th>\n",
       "    </tr>\n",
       "  </thead>\n",
       "  <tbody>\n",
       "    <tr>\n",
       "      <th>2023-01-01</th>\n",
       "      <td>30568.03</td>\n",
       "      <td>489.08</td>\n",
       "    </tr>\n",
       "    <tr>\n",
       "      <th>2023-01-02</th>\n",
       "      <td>70883.35</td>\n",
       "      <td>1134.16</td>\n",
       "    </tr>\n",
       "    <tr>\n",
       "      <th>2023-01-03</th>\n",
       "      <td>91810.34</td>\n",
       "      <td>1446.85</td>\n",
       "    </tr>\n",
       "    <tr>\n",
       "      <th>2023-01-04</th>\n",
       "      <td>68154.88</td>\n",
       "      <td>1084.38</td>\n",
       "    </tr>\n",
       "    <tr>\n",
       "      <th>2023-01-05</th>\n",
       "      <td>122327.71</td>\n",
       "      <td>1948.09</td>\n",
       "    </tr>\n",
       "  </tbody>\n",
       "</table>\n",
       "</div>"
      ],
      "text/plain": [
       "            Сумма операции  Комиссия\n",
       "date                                \n",
       "2023-01-01        30568.03    489.08\n",
       "2023-01-02        70883.35   1134.16\n",
       "2023-01-03        91810.34   1446.85\n",
       "2023-01-04        68154.88   1084.38\n",
       "2023-01-05       122327.71   1948.09"
      ]
     },
     "execution_count": 46,
     "metadata": {},
     "output_type": "execute_result"
    }
   ],
   "source": [
    "df_sum.head()"
   ]
  },
  {
   "cell_type": "code",
   "execution_count": 47,
   "id": "b0e69703",
   "metadata": {},
   "outputs": [],
   "source": [
    "df_count=df.groupby(pd.Grouper(key='date', axis=0,freq='D'))\n",
    "df_count=df_count[['Сумма операции']].count()"
   ]
  },
  {
   "cell_type": "code",
   "execution_count": 48,
   "id": "df7c10bd",
   "metadata": {},
   "outputs": [],
   "source": [
    "df_sum_count=pd.merge(df_sum,df_count,on='date',how='inner')"
   ]
  },
  {
   "cell_type": "code",
   "execution_count": 49,
   "id": "b61d84e7",
   "metadata": {},
   "outputs": [],
   "source": [
    "#df_sum.groupby(pd.Grouper(key='date', axis=0,freq='M'))"
   ]
  },
  {
   "cell_type": "code",
   "execution_count": 50,
   "id": "a8e77e3e",
   "metadata": {},
   "outputs": [
    {
     "data": {
      "text/html": [
       "<div>\n",
       "<style scoped>\n",
       "    .dataframe tbody tr th:only-of-type {\n",
       "        vertical-align: middle;\n",
       "    }\n",
       "\n",
       "    .dataframe tbody tr th {\n",
       "        vertical-align: top;\n",
       "    }\n",
       "\n",
       "    .dataframe thead th {\n",
       "        text-align: right;\n",
       "    }\n",
       "</style>\n",
       "<table border=\"1\" class=\"dataframe\">\n",
       "  <thead>\n",
       "    <tr style=\"text-align: right;\">\n",
       "      <th></th>\n",
       "      <th>Сумма операции_x</th>\n",
       "      <th>Комиссия</th>\n",
       "      <th>Сумма операции_y</th>\n",
       "    </tr>\n",
       "    <tr>\n",
       "      <th>date</th>\n",
       "      <th></th>\n",
       "      <th></th>\n",
       "      <th></th>\n",
       "    </tr>\n",
       "  </thead>\n",
       "  <tbody>\n",
       "    <tr>\n",
       "      <th>2023-01-01</th>\n",
       "      <td>30568.03</td>\n",
       "      <td>489.08</td>\n",
       "      <td>68</td>\n",
       "    </tr>\n",
       "    <tr>\n",
       "      <th>2023-01-02</th>\n",
       "      <td>70883.35</td>\n",
       "      <td>1134.16</td>\n",
       "      <td>132</td>\n",
       "    </tr>\n",
       "    <tr>\n",
       "      <th>2023-01-03</th>\n",
       "      <td>91810.34</td>\n",
       "      <td>1446.85</td>\n",
       "      <td>153</td>\n",
       "    </tr>\n",
       "    <tr>\n",
       "      <th>2023-01-04</th>\n",
       "      <td>68154.88</td>\n",
       "      <td>1084.38</td>\n",
       "      <td>158</td>\n",
       "    </tr>\n",
       "    <tr>\n",
       "      <th>2023-01-05</th>\n",
       "      <td>122327.71</td>\n",
       "      <td>1948.09</td>\n",
       "      <td>186</td>\n",
       "    </tr>\n",
       "  </tbody>\n",
       "</table>\n",
       "</div>"
      ],
      "text/plain": [
       "            Сумма операции_x  Комиссия  Сумма операции_y\n",
       "date                                                    \n",
       "2023-01-01          30568.03    489.08                68\n",
       "2023-01-02          70883.35   1134.16               132\n",
       "2023-01-03          91810.34   1446.85               153\n",
       "2023-01-04          68154.88   1084.38               158\n",
       "2023-01-05         122327.71   1948.09               186"
      ]
     },
     "execution_count": 50,
     "metadata": {},
     "output_type": "execute_result"
    }
   ],
   "source": [
    "df_sum_count.head()"
   ]
  },
  {
   "cell_type": "markdown",
   "id": "780c4f18",
   "metadata": {},
   "source": [
    "#Посмотрим на суммы комиссии по месяцам"
   ]
  },
  {
   "cell_type": "code",
   "execution_count": 51,
   "id": "0dc3464b",
   "metadata": {},
   "outputs": [],
   "source": [
    "#df_month=df.groupby(pd.Grouper(key='date', axis=0,freq='M'))\n",
    "#df_month=df_month.sum()"
   ]
  },
  {
   "cell_type": "code",
   "execution_count": 52,
   "id": "68fc63ba",
   "metadata": {},
   "outputs": [],
   "source": [
    "#df_month"
   ]
  },
  {
   "cell_type": "markdown",
   "id": "306ea0b5",
   "metadata": {},
   "source": [
    "Посчитаем процент комиссии с терминалов от продаж"
   ]
  },
  {
   "cell_type": "code",
   "execution_count": 53,
   "id": "92f24eaf",
   "metadata": {},
   "outputs": [],
   "source": [
    "df['procent_commision']=df['Комиссия']/(df['Сумма операции'])*100"
   ]
  },
  {
   "cell_type": "markdown",
   "id": "8c1632e9",
   "metadata": {},
   "source": [
    "* Посмотрим среднюю комиссию по всем платежам"
   ]
  },
  {
   "cell_type": "code",
   "execution_count": 54,
   "id": "5671ba47",
   "metadata": {},
   "outputs": [
    {
     "data": {
      "text/plain": [
       "count    7625.000000\n",
       "mean        1.591237\n",
       "std         0.114656\n",
       "min         0.000000\n",
       "25%         1.599637\n",
       "50%         1.600000\n",
       "75%         1.600352\n",
       "max         2.500000\n",
       "Name: procent_commision, dtype: float64"
      ]
     },
     "execution_count": 54,
     "metadata": {},
     "output_type": "execute_result"
    }
   ],
   "source": [
    "df['procent_commision'].describe()"
   ]
  },
  {
   "cell_type": "code",
   "execution_count": 55,
   "id": "1c61cf22",
   "metadata": {},
   "outputs": [
    {
     "data": {
      "text/plain": [
       "1.600000    2199\n",
       "1.602941      45\n",
       "1.597222      38\n",
       "1.596154      35\n",
       "1.598485      33\n",
       "            ... \n",
       "1.599606       1\n",
       "1.601349       1\n",
       "1.599662       1\n",
       "1.601311       1\n",
       "1.587786       1\n",
       "Name: procent_commision, Length: 2377, dtype: int64"
      ]
     },
     "execution_count": 55,
     "metadata": {},
     "output_type": "execute_result"
    }
   ],
   "source": [
    "df['procent_commision'].value_counts()"
   ]
  },
  {
   "cell_type": "markdown",
   "id": "f7b978fa",
   "metadata": {},
   "source": [
    "Посмотрим Как часто люди платят по СБП. Комиссия СБП около 0.5 процента"
   ]
  },
  {
   "cell_type": "code",
   "execution_count": 56,
   "id": "0af46611",
   "metadata": {},
   "outputs": [
    {
     "data": {
      "text/plain": [
       "<AxesSubplot:>"
      ]
     },
     "execution_count": 56,
     "metadata": {},
     "output_type": "execute_result"
    },
    {
     "data": {
      "image/png": "[encoded data removed]",
      "text/plain": [
       "<Figure size 432x288 with 1 Axes>"
      ]
     },
     "metadata": {
      "needs_background": "light"
     },
     "output_type": "display_data"
    }
   ],
   "source": [
    "df['procent_commision'].hist()"
   ]
  },
  {
   "cell_type": "markdown",
   "id": "21a7e071",
   "metadata": {},
   "source": [
    "* Посмотрим всего сколько было платежей с комиссией менее 1%"
   ]
  },
  {
   "cell_type": "code",
   "execution_count": 59,
   "id": "01648287",
   "metadata": {},
   "outputs": [
    {
     "data": {
      "text/plain": [
       "50"
      ]
     },
     "execution_count": 59,
     "metadata": {},
     "output_type": "execute_result"
    }
   ],
   "source": [
    "df_comm=(df['procent_commision']<1).sum()\n",
    "df_comm.sum()"
   ]
  },
  {
   "cell_type": "markdown",
   "id": "71a8d901",
   "metadata": {},
   "source": [
    "* посчитаем среднюю комиссию по СБП, исключим нулевые комисии"
   ]
  },
  {
   "cell_type": "code",
   "execution_count": 60,
   "id": "7313615b",
   "metadata": {},
   "outputs": [],
   "source": [
    "a=df.query('`procent_commision` < 1')"
   ]
  },
  {
   "cell_type": "code",
   "execution_count": 61,
   "id": "5298325b",
   "metadata": {},
   "outputs": [
    {
     "data": {
      "text/plain": [
       "0.39734333850885106"
      ]
     },
     "execution_count": 61,
     "metadata": {},
     "output_type": "execute_result"
    }
   ],
   "source": [
    "a.query('`procent_commision` > 0')['procent_commision'].mean()"
   ]
  },
  {
   "cell_type": "markdown",
   "id": "1446b9b8",
   "metadata": {},
   "source": [
    "* Выяснить откуда берется нулевая комиссия.."
   ]
  },
  {
   "cell_type": "code",
   "execution_count": 62,
   "id": "2497addd",
   "metadata": {},
   "outputs": [
    {
     "data": {
      "text/html": [
       "<div>\n",
       "<style scoped>\n",
       "    .dataframe tbody tr th:only-of-type {\n",
       "        vertical-align: middle;\n",
       "    }\n",
       "\n",
       "    .dataframe tbody tr th {\n",
       "        vertical-align: top;\n",
       "    }\n",
       "\n",
       "    .dataframe thead th {\n",
       "        text-align: right;\n",
       "    }\n",
       "</style>\n",
       "<table border=\"1\" class=\"dataframe\">\n",
       "  <thead>\n",
       "    <tr style=\"text-align: right;\">\n",
       "      <th></th>\n",
       "      <th>Номер источника платежа</th>\n",
       "      <th>Наименование МПС</th>\n",
       "      <th>Тип операции</th>\n",
       "      <th>Сумма операции</th>\n",
       "      <th>S/N терминала</th>\n",
       "      <th>Комиссия</th>\n",
       "      <th>date</th>\n",
       "      <th>procent_commision</th>\n",
       "    </tr>\n",
       "  </thead>\n",
       "  <tbody>\n",
       "    <tr>\n",
       "      <th>7324</th>\n",
       "      <td>7905*****48</td>\n",
       "      <td>СБП</td>\n",
       "      <td>Debit</td>\n",
       "      <td>558.0</td>\n",
       "      <td>2330516939</td>\n",
       "      <td>2.23</td>\n",
       "      <td>2023-01-03 07:26:05</td>\n",
       "      <td>0.399642</td>\n",
       "    </tr>\n",
       "    <tr>\n",
       "      <th>7334</th>\n",
       "      <td>7962*****89</td>\n",
       "      <td>СБП</td>\n",
       "      <td>Debit</td>\n",
       "      <td>1190.0</td>\n",
       "      <td>2330516939</td>\n",
       "      <td>4.76</td>\n",
       "      <td>2023-01-03 09:15:43</td>\n",
       "      <td>0.400000</td>\n",
       "    </tr>\n",
       "    <tr>\n",
       "      <th>7383</th>\n",
       "      <td>7962*****95</td>\n",
       "      <td>СБП</td>\n",
       "      <td>Debit</td>\n",
       "      <td>90.0</td>\n",
       "      <td>2330516939</td>\n",
       "      <td>0.36</td>\n",
       "      <td>2023-01-03 12:40:06</td>\n",
       "      <td>0.400000</td>\n",
       "    </tr>\n",
       "    <tr>\n",
       "      <th>1543</th>\n",
       "      <td>7962*****02</td>\n",
       "      <td>СБП</td>\n",
       "      <td>Debit</td>\n",
       "      <td>265.0</td>\n",
       "      <td>3f49ffbb5afca6b7</td>\n",
       "      <td>1.06</td>\n",
       "      <td>2023-01-04 13:32:44</td>\n",
       "      <td>0.400000</td>\n",
       "    </tr>\n",
       "    <tr>\n",
       "      <th>1600</th>\n",
       "      <td>7962*****29</td>\n",
       "      <td>СБП</td>\n",
       "      <td>Debit</td>\n",
       "      <td>125.0</td>\n",
       "      <td>2330516939</td>\n",
       "      <td>0.50</td>\n",
       "      <td>2023-01-04 17:27:43</td>\n",
       "      <td>0.400000</td>\n",
       "    </tr>\n",
       "  </tbody>\n",
       "</table>\n",
       "</div>"
      ],
      "text/plain": [
       "     Номер источника платежа Наименование МПС Тип операции  Сумма операции  \\\n",
       "7324             7905*****48              СБП        Debit           558.0   \n",
       "7334             7962*****89              СБП        Debit          1190.0   \n",
       "7383             7962*****95              СБП        Debit            90.0   \n",
       "1543             7962*****02              СБП        Debit           265.0   \n",
       "1600             7962*****29              СБП        Debit           125.0   \n",
       "\n",
       "         S/N терминала  Комиссия                date  procent_commision  \n",
       "7324        2330516939      2.23 2023-01-03 07:26:05           0.399642  \n",
       "7334        2330516939      4.76 2023-01-03 09:15:43           0.400000  \n",
       "7383        2330516939      0.36 2023-01-03 12:40:06           0.400000  \n",
       "1543  3f49ffbb5afca6b7      1.06 2023-01-04 13:32:44           0.400000  \n",
       "1600        2330516939      0.50 2023-01-04 17:27:43           0.400000  "
      ]
     },
     "execution_count": 62,
     "metadata": {},
     "output_type": "execute_result"
    }
   ],
   "source": [
    "df.query('`procent_commision` < 1').sort_values(by=['date']).head()"
   ]
  },
  {
   "cell_type": "code",
   "execution_count": 63,
   "id": "562ebd1f",
   "metadata": {},
   "outputs": [
    {
     "data": {
      "text/html": [
       "<div>\n",
       "<style scoped>\n",
       "    .dataframe tbody tr th:only-of-type {\n",
       "        vertical-align: middle;\n",
       "    }\n",
       "\n",
       "    .dataframe tbody tr th {\n",
       "        vertical-align: top;\n",
       "    }\n",
       "\n",
       "    .dataframe thead th {\n",
       "        text-align: right;\n",
       "    }\n",
       "</style>\n",
       "<table border=\"1\" class=\"dataframe\">\n",
       "  <thead>\n",
       "    <tr style=\"text-align: right;\">\n",
       "      <th></th>\n",
       "      <th>Номер источника платежа</th>\n",
       "      <th>Наименование МПС</th>\n",
       "      <th>Тип операции</th>\n",
       "      <th>Сумма операции</th>\n",
       "      <th>S/N терминала</th>\n",
       "      <th>Комиссия</th>\n",
       "      <th>date</th>\n",
       "      <th>procent_commision</th>\n",
       "    </tr>\n",
       "  </thead>\n",
       "  <tbody>\n",
       "    <tr>\n",
       "      <th>2619</th>\n",
       "      <td>7905*****22</td>\n",
       "      <td>СБП</td>\n",
       "      <td>Debit</td>\n",
       "      <td>370.00</td>\n",
       "      <td>2330511563</td>\n",
       "      <td>0.0</td>\n",
       "      <td>2023-01-30 18:23:30</td>\n",
       "      <td>0.0</td>\n",
       "    </tr>\n",
       "    <tr>\n",
       "      <th>6938</th>\n",
       "      <td>7906*****63</td>\n",
       "      <td>СБП</td>\n",
       "      <td>Debit</td>\n",
       "      <td>36.00</td>\n",
       "      <td>2330516939</td>\n",
       "      <td>0.0</td>\n",
       "      <td>2023-01-31 11:23:55</td>\n",
       "      <td>0.0</td>\n",
       "    </tr>\n",
       "    <tr>\n",
       "      <th>2217</th>\n",
       "      <td>7967*****15</td>\n",
       "      <td>СБП</td>\n",
       "      <td>Debit</td>\n",
       "      <td>122.00</td>\n",
       "      <td>2330516939</td>\n",
       "      <td>0.0</td>\n",
       "      <td>2023-02-01 07:16:02</td>\n",
       "      <td>0.0</td>\n",
       "    </tr>\n",
       "    <tr>\n",
       "      <th>2319</th>\n",
       "      <td>7967*****81</td>\n",
       "      <td>СБП</td>\n",
       "      <td>Debit</td>\n",
       "      <td>3489.16</td>\n",
       "      <td>2330511563</td>\n",
       "      <td>0.0</td>\n",
       "      <td>2023-02-01 15:49:23</td>\n",
       "      <td>0.0</td>\n",
       "    </tr>\n",
       "    <tr>\n",
       "      <th>2673</th>\n",
       "      <td>7905*****62</td>\n",
       "      <td>СБП</td>\n",
       "      <td>Debit</td>\n",
       "      <td>800.00</td>\n",
       "      <td>2330511563</td>\n",
       "      <td>0.0</td>\n",
       "      <td>2023-02-06 10:33:48</td>\n",
       "      <td>0.0</td>\n",
       "    </tr>\n",
       "  </tbody>\n",
       "</table>\n",
       "</div>"
      ],
      "text/plain": [
       "     Номер источника платежа Наименование МПС Тип операции  Сумма операции  \\\n",
       "2619             7905*****22              СБП        Debit          370.00   \n",
       "6938             7906*****63              СБП        Debit           36.00   \n",
       "2217             7967*****15              СБП        Debit          122.00   \n",
       "2319             7967*****81              СБП        Debit         3489.16   \n",
       "2673             7905*****62              СБП        Debit          800.00   \n",
       "\n",
       "     S/N терминала  Комиссия                date  procent_commision  \n",
       "2619    2330511563       0.0 2023-01-30 18:23:30                0.0  \n",
       "6938    2330516939       0.0 2023-01-31 11:23:55                0.0  \n",
       "2217    2330516939       0.0 2023-02-01 07:16:02                0.0  \n",
       "2319    2330511563       0.0 2023-02-01 15:49:23                0.0  \n",
       "2673    2330511563       0.0 2023-02-06 10:33:48                0.0  "
      ]
     },
     "execution_count": 63,
     "metadata": {},
     "output_type": "execute_result"
    }
   ],
   "source": [
    "df.query('`procent_commision` == 0').sort_values(by=['date']).head()"
   ]
  },
  {
   "cell_type": "code",
   "execution_count": 64,
   "id": "ef68a434",
   "metadata": {},
   "outputs": [
    {
     "data": {
      "text/plain": [
       "24"
      ]
     },
     "execution_count": 64,
     "metadata": {},
     "output_type": "execute_result"
    }
   ],
   "source": [
    "(df['procent_commision'] == 0).sum()"
   ]
  },
  {
   "cell_type": "markdown",
   "id": "48a858da",
   "metadata": {},
   "source": [
    "Посмотрм долю платежей в СБП"
   ]
  },
  {
   "cell_type": "code",
   "execution_count": 66,
   "id": "f7a77459",
   "metadata": {},
   "outputs": [
    {
     "data": {
      "text/plain": [
       "0.6557377049180327"
      ]
     },
     "execution_count": 66,
     "metadata": {},
     "output_type": "execute_result"
    }
   ],
   "source": [
    "df_comm.sum()/df.shape[0]*100"
   ]
  },
  {
   "cell_type": "markdown",
   "id": "65a1e091",
   "metadata": {},
   "source": [
    "* Всего 50 платежей по СБП, из них 24 с нулевой комиссией c 30-января-2023г,\n",
    "  Из 7625 платежей за 2 месяца с начала года, что является 0.65% от всех платежей"
   ]
  },
  {
   "cell_type": "markdown",
   "id": "3102dcae",
   "metadata": {},
   "source": [
    "Также посмотрим на продажи по деньгам и количеству"
   ]
  },
  {
   "cell_type": "code",
   "execution_count": 67,
   "id": "b7d55fd5",
   "metadata": {},
   "outputs": [
    {
     "data": {
      "image/png": "[encoded data removed]",
      "text/plain": [
       "<Figure size 432x288 with 1 Axes>"
      ]
     },
     "metadata": {
      "needs_background": "light"
     },
     "output_type": "display_data"
    }
   ],
   "source": [
    "#plt.plot(df_dt['plan_amount'])\n",
    "x=df_sum_count[('Сумма операции_x')]\n",
    "\n",
    "fig, ax = plt.subplots()\n",
    "ax.plot(x)\n",
    "\n",
    "# titleax.plot(x) and labels, setting initial sizes\n",
    "fig.suptitle('продажи по деньгам', fontsize=12)\n",
    "ax.set_xlabel('День');\n",
    "\n",
    "# setting label sizes after creation\n",
    "#ax.xaxis.label.set_size(20)\n"
   ]
  },
  {
   "cell_type": "code",
   "execution_count": 68,
   "id": "bd3a02ca",
   "metadata": {},
   "outputs": [
    {
     "data": {
      "image/png": "[encoded data removed]",
      "text/plain": [
       "<Figure size 432x288 with 1 Axes>"
      ]
     },
     "metadata": {
      "needs_background": "light"
     },
     "output_type": "display_data"
    }
   ],
   "source": [
    "y=df_sum_count['Сумма операции_y']\n",
    "ax.plot(y)\n",
    "ax.set_ylabel('Сумма')   # relative to plt.rcParams['font.size']\n",
    "\n",
    "fig, ax = plt.subplots()\n",
    "fig.suptitle('продажи по количеству чеков', fontsize=12)\n",
    "ax.set_xlabel('День');\n",
    "ax.plot(y);"
   ]
  },
  {
   "cell_type": "markdown",
   "id": "e4b62409",
   "metadata": {},
   "source": [
    "Проблемы и выводы\n",
    "+ 1. Дата - проблема с чтением пандаса из csv необычном формате- не выдает ошибок!!!\n",
    "- 2. Графики - как сделать нормальный размер? Почему есть провалы в продажах?\n",
    "\n",
    "Рекомендации - Поднять долю плажей по СБП: сделать мотивацию для покупатей платить с помощью QR кода и камеры смартфона, тем самым уменьшив комиссию со средней - 1.59% до 0.4%, в 4 раза!\n",
    "\n",
    "* Выводы - нулевая комиссии по СБП - маркетинговая акция для новых клиентов банка с 30 января, но старых клиентов почему-то не уведомили, поэтому возникла путаница с нулевой комиссиией в платежах за февраль."
   ]
  },
  {
   "cell_type": "code",
   "execution_count": null,
   "id": "d78f5982",
   "metadata": {},
   "outputs": [],
   "source": [
    "#todo - предсказать сумму продаж и кол-во чеков"
   ]
  },
  {
   "cell_type": "code",
   "execution_count": 70,
   "id": "f270dc0d",
   "metadata": {},
   "outputs": [
    {
     "name": "stdout",
     "output_type": "stream",
     "text": [
      "Requirement already satisfied: jovian in /home/nal/anaconda3/lib/python3.9/site-packages (0.2.45)\n",
      "Requirement already satisfied: requests in /home/nal/anaconda3/lib/python3.9/site-packages (from jovian) (2.26.0)\n",
      "Requirement already satisfied: uuid in /home/nal/anaconda3/lib/python3.9/site-packages (from jovian) (1.30)\n",
      "Requirement already satisfied: click in /home/nal/anaconda3/lib/python3.9/site-packages (from jovian) (8.0.3)\n",
      "Requirement already satisfied: pyyaml in /home/nal/anaconda3/lib/python3.9/site-packages (from jovian) (6.0)\n",
      "Requirement already satisfied: certifi>=2017.4.17 in /home/nal/anaconda3/lib/python3.9/site-packages (from requests->jovian) (2021.10.8)\n",
      "Requirement already satisfied: idna<4,>=2.5 in /home/nal/anaconda3/lib/python3.9/site-packages (from requests->jovian) (3.2)\n",
      "Requirement already satisfied: urllib3<1.27,>=1.21.1 in /home/nal/anaconda3/lib/python3.9/site-packages (from requests->jovian) (1.26.7)\n",
      "Requirement already satisfied: charset-normalizer~=2.0.0 in /home/nal/anaconda3/lib/python3.9/site-packages (from requests->jovian) (2.0.4)\n",
      "Note: you may need to restart the kernel to use updated packages.\n"
     ]
    }
   ],
   "source": [
    "pip install jovian"
   ]
  },
  {
   "cell_type": "code",
   "execution_count": 71,
   "id": "9f0df30d",
   "metadata": {},
   "outputs": [
    {
     "data": {
      "text/plain": [
       "<module 'jovian' from '/home/nal/anaconda3/lib/python3.9/site-packages/jovian/__init__.py'>"
      ]
     },
     "execution_count": 71,
     "metadata": {},
     "output_type": "execute_result"
    }
   ],
   "source": []
  },
  {
   "cell_type": "code",
   "execution_count": null,
   "id": "f5e7423b",
   "metadata": {},
   "outputs": [],
   "source": []
  },
  {
   "cell_type": "code",
   "execution_count": null,
   "id": "44c6b27c",
   "metadata": {},
   "outputs": [],
   "source": []
  }
 ],
 "metadata": {
  "kernelspec": {
   "display_name": "Python 3 (ipykernel)",
   "language": "python",
   "name": "python3"
  },
  "language_info": {
   "codemirror_mode": {
    "name": "ipython",
    "version": 3
   },
   "file_extension": ".py",
   "mimetype": "text/x-python",
   "name": "python",
   "nbconvert_exporter": "python",
   "pygments_lexer": "ipython3",
   "version": "3.9.7"
  }
 },
 "nbformat": 4,
 "nbformat_minor": 5
}
